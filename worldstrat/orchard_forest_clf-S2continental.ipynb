{
 "cells": [
  {
   "cell_type": "code",
   "execution_count": null,
   "metadata": {
    "colab": {
     "base_uri": "https://localhost:8080/"
    },
    "id": "2Xnh0i6mjEqk",
    "outputId": "6f76a4b5-407b-46c7-80f7-511f631fd740"
   },
   "outputs": [],
   "source": []
  },
  {
   "cell_type": "code",
   "execution_count": 2,
   "metadata": {
    "id": "ZAzzHnlFk5lN"
   },
   "outputs": [],
   "source": []
  },
  {
   "cell_type": "code",
   "execution_count": null,
   "metadata": {
    "colab": {
     "base_uri": "https://localhost:8080/"
    },
    "id": "krtZXA_wk_f8",
    "outputId": "c14d454b-a454-4a15-df05-855dc8954c6b"
   },
   "outputs": [],
   "source": []
  },
  {
   "cell_type": "code",
   "execution_count": null,
   "metadata": {
    "colab": {
     "base_uri": "https://localhost:8080/"
    },
    "id": "pEY6CA9ten2Y",
    "outputId": "3ad62fdb-d4c2-4024-e540-90eca02f7448"
   },
   "outputs": [],
   "source": []
  },
  {
   "cell_type": "code",
   "execution_count": 19,
   "metadata": {
    "id": "MJo6Z9MOfXC5"
   },
   "outputs": [],
   "source": [
    "import os\n",
    "import numpy as np\n",
    "import torch\n",
    "import torch.nn as nn\n",
    "import torch.optim as optim\n",
    "import torchvision.transforms as transforms\n",
    "from torch.utils.data import DataLoader, Dataset\n",
    "\n",
    "# Define the path to your data folders\n",
    "#orchard_path = \"mountdata/euroorchardsSR\"\n",
    "#forest_path = \"mountdata/euroforestsSR\"\n",
    "\n",
    "#orchard_path = 'mountdata/*orchards2-50m'\n",
    "#forest_path = 'mountdata/*forests2-50m'\n",
    "orchard_path = ['mountdata/ngaorchards2-50m', 'mountdata/oilpalmorchards2-50m']#, 'mountdata/zaforchards2-50m'\n",
    "forest_path = ['mountdata/ngaforests2-50m','mountdata/oilpalmforests2-50m']#,'mountdata/zafforests2-50m'\n",
    "\n",
    "# Define hyperparameters\n",
    "batch_size = 8\n",
    "learning_rate = 0.001\n",
    "num_epochs = 40\n",
    "\n",
    "# Check if CUDA/GPU is available (optional but recommended for faster training)\n",
    "device = torch.device(\"cuda\" if torch.cuda.is_available() else \"cpu\")"
   ]
  },
  {
   "cell_type": "code",
   "execution_count": 2,
   "metadata": {
    "id": "uA0Kea0Tbfqa"
   },
   "outputs": [
    {
     "name": "stdout",
     "output_type": "stream",
     "text": [
      "/zaforchards2-50m/Image_Lat_-22.240004789245813_Lon_29.037818903248997.tif.npy\n"
     ]
    }
   ],
   "source": [
    "anomalies = ['/content/mountdata/euroorchards2-50m/Image_00000000000000003009.tif',\n",
    "             '/content/mountdata/euroorchards2-50m/Image_000000000000000078e4.tif',\n",
    "             '/content/mountdata/euroorchards2-50m/Image_Lat_37.07623913852226_Lon_-2.000375028081088.tif', '/content/mountdata/euroorchards2-50m/Image_Lat_37.94822972682675_Lon_-3.4164829633312706.tif', '/content/mountdata/euroorchards2-50m/Image_Lat_38.8801773878959_Lon_-6.697988937774733.tif', '/content/mountdata/euroorchards2-50m/Image_Lat_38.95187527373425_Lon_-2.361976909808175.tif', '/content/mountdata/euroorchards2-50m/Image_Lat_39.193589764538395_Lon_-3.8118669946392627.tif', '/content/mountdata/euroorchards2-50m/Image_Lat_40.14078309210926_Lon_-5.999096193263948.tif', '/content/mountdata/euroorchards2-50m/Image_Lat_41.54885126816007_Lon_1.9003128004417624.tif', '/content/mountdata/euroorchards2-50m/Image_Lat_42.25991289944572_Lon_12.57314441725815.tif', '/content/mountdata/euroorchards2-50m/Image_Lat_42.43071430619691_Lon_11.15069564030997.tif', '/content/mountdata/euroorchards2-50m/Image_Lat_42.44744039424839_Lon_-7.791226743048059.tif', '/content/mountdata/euroforests2-50m/Image_00000000000000007414.tif', '/content/mountdata/euroforests2-50m/Image_0000000000000000777f.tif', '/content/mountdata/euroforests2-50m/Image_000000000000000077ab.tif', '/content/mountdata/euroforests2-50m/Image_Lat_38.984007555925395_Lon_-5.195878320506741.tif', '/content/mountdata/euroforests2-50m/Image_Lat_39.11165378268132_Lon_-5.202214703103686.tif', '/content/mountdata/euroforests2-50m/Image_Lat_39.203841237860274_Lon_-5.200292830549653.tif', '/content/mountdata/euroforests2-50m/Image_Lat_39.511327469202726_Lon_-6.671992378633144.tif', '/content/mountdata/euroforests2-50m/Image_Lat_39.64780717514556_Lon_-7.256049893714537.tif', '/content/mountdata/euroforests2-50m/Image_Lat_39.70667176815209_Lon_-6.175261898582432.tif', '/content/mountdata/euroforests2-50m/Image_Lat_39.718064771343656_Lon_-5.773746603325954.tif', '/content/mountdata/euroforests2-50m/Image_Lat_39.720976564331544_Lon_-6.417043275902375.tif', '/content/mountdata/euroforests2-50m/Image_Lat_42.11554950284041_Lon_-7.790700569123754.tif', '/content/mountdata/euroforests2-50m/Image_Lat_42.4521046139503_Lon_-8.770396284273188.tif', '/content/mountdata/euroforests2-50m/Image_Lat_42.452519310348265_Lon_-8.670079887873815.tif', '/content/mountdata/euroforests2-50m/Image_Lat_42.453041025171515_Lon_-8.469456013277178.tif']\n",
    "\n",
    "anomalies = ['mountdata/zaforchards2-50m/Image_Lat_-22.240004789245813_Lon_29.037818903248997.tif', 'mountdata/zaforchards2-50m/Image_Lat_-23.190591509848193_Lon_30.02648230297659.tif', 'mountdata/zaforchards2-50m/Image_Lat_-23.206826468411446_Lon_30.02780007043587.tif', 'mountdata/zaforchards2-50m/Image_Lat_-23.729701304546758_Lon_30.581030198896638.tif', \n",
    "             'mountdata/zaforchards2-50m/Image_Lat_-23.75421204450379_Lon_30.040246170137554.tif', 'mountdata/zaforchards2-50m/Image_Lat_-24.36739322183993_Lon_30.740867775354953.tif', 'mountdata/zaforchards2-50m/Image_Lat_-24.36793308158871_Lon_30.78216057550199.tif', 'mountdata/zaforchards2-50m/Image_Lat_-24.36912426208262_Lon_30.70107562081649.tif', \n",
    "             'mountdata/zaforchards2-50m/Image_Lat_-24.369803520775992_Lon_30.706244153045976.tif', \n",
    "             'mountdata/zaforchards2-50m/Image_Lat_-24.369990509567586_Lon_30.697764023623456.tif', 'mountdata/zaforchards2-50m/Image_Lat_-25.004242898951123_Lon_31.056674929441822.tif', 'mountdata/zaforchards2-50m/Image_Lat_-25.083577710663594_Lon_31.059082643615447.tif', 'mountdata/zaforchards2-50m/Image_Lat_-25.355981316561753_Lon_30.87019654213516.tif', \n",
    "             'mountdata/zaforchards2-50m/Image_Lat_-25.356378638983212_Lon_30.749683721086058.tif', 'mountdata/zaforchards2-50m/Image_Lat_-25.399142856245106_Lon_31.853747261479064.tif', 'mountdata/zaforchards2-50m/Image_Lat_-25.42440065060146_Lon_31.10614799508328.tif', 'mountdata/zaforchards2-50m/Image_Lat_-32.15294327380358_Lon_18.886208968452273.tif', \n",
    "             'mountdata/zaforchards2-50m/Image_Lat_-32.266605173370685_Lon_18.979176591008986.tif', 'mountdata/zaforchards2-50m/Image_Lat_-32.80791159156275_Lon_18.7056015650465.tif', 'mountdata/zaforchards2-50m/Image_Lat_-33.424104508473484_Lon_19.219134895787988.tif', 'mountdata/zaforchards2-50m/Image_Lat_-33.42747627667723_Lon_25.494554865159728.tif', \n",
    "             'mountdata/zaforchards2-50m/Image_Lat_-33.76617526466205_Lon_23.486430250833436.tif', 'mountdata/zaforchards2-50m/Image_Lat_-33.81678984759524_Lon_23.75666510651492.tif', 'mountdata/zafforests2-50m/Image_Lat_-22.750359611743477_Lon_30.076954472051707.tif', 'mountdata/zafforests2-50m/Image_Lat_-24.893520791446683_Lon_31.057298004159495.tif', 'mountdata/zafforests2-50m/Image_Lat_-25.382506281880506_Lon_29.54393489111359.tif', 'mountdata/zafforests2-50m/Image_Lat_-25.38360708957488_Lon_29.41490838960512.tif', \n",
    " 'mountdata/zafforests2-50m/Image_Lat_-25.663925262990297_Lon_31.10501855033152.tif', 'mountdata/zafforests2-50m/Image_Lat_-26.299960611462208_Lon_25.683737847721723.tif', 'mountdata/zafforests2-50m/Image_Lat_-27.963598186452764_Lon_32.084100119337684.tif', \n",
    "             'mountdata/zafforests2-50m/Image_Lat_-28.315390968743124_Lon_32.45090360985396.tif', 'mountdata/zafforests2-50m/Image_Lat_-28.4597026176856_Lon_32.415726424788375.tif', 'mountdata/zafforests2-50m/Image_Lat_-28.937286098156267_Lon_30.947486221372245.tif', 'mountdata/zafforests2-50m/Image_Lat_-28.98745723719802_Lon_29.846632525779782.tif', 'mountdata/zafforests2-50m/Image_Lat_-29.803715878804166_Lon_30.26411985853742.tif', 'mountdata/zafforests2-50m/Image_Lat_-32.68005997185722_Lon_27.002089587012645.tif']\n",
    "\n",
    "anoms = [x[9:] + '.npy' for x in anomalies]\n",
    "print(anoms[0])"
   ]
  },
  {
   "cell_type": "code",
   "execution_count": 4,
   "metadata": {
    "id": "eX65OAggjO3c"
   },
   "outputs": [
    {
     "name": "stderr",
     "output_type": "stream",
     "text": [
      "/home/angelats11/.local/lib/python3.9/site-packages/torchvision/models/_utils.py:208: UserWarning: The parameter 'pretrained' is deprecated since 0.13 and may be removed in the future, please use 'weights' instead.\n",
      "  warnings.warn(\n",
      "/home/angelats11/.local/lib/python3.9/site-packages/torchvision/models/_utils.py:223: UserWarning: Arguments other than a weight enum or `None` for 'weights' are deprecated since 0.13 and may be removed in the future. The current behavior is equivalent to passing `weights=ResNet18_Weights.IMAGENET1K_V1`. You can also use `weights=ResNet18_Weights.DEFAULT` to get the most up-to-date weights.\n",
      "  warnings.warn(msg)\n"
     ]
    }
   ],
   "source": [
    "from torchvision.models import resnet18 as rnet18\n",
    "dropout_prob = .3\n",
    "class ComplexCNN(nn.Module):\n",
    "    def __init__(self, num_classes=2, dropout_prob=0.5):\n",
    "        super(ComplexCNN, self).__init__()\n",
    "        self.conv1 = nn.Conv2d(3, 32, kernel_size=3, stride=1, padding=1)\n",
    "        self.relu1 = nn.ReLU()\n",
    "        self.pool1 = nn.MaxPool2d(kernel_size=2, stride=2)\n",
    "\n",
    "        self.conv2 = nn.Conv2d(32, 64, kernel_size=3, stride=1, padding=1)\n",
    "        self.relu2 = nn.ReLU()\n",
    "        self.pool2 = nn.MaxPool2d(kernel_size=2, stride=2)\n",
    "\n",
    "        self.conv3 = nn.Conv2d(64, 128, kernel_size=3, stride=1, padding=1)\n",
    "        self.relu3 = nn.ReLU()\n",
    "        self.pool3 = nn.MaxPool2d(kernel_size=2, stride=2)\n",
    "\n",
    "        self.fc1 = nn.Linear(128 * 19 * 19, 512)  # Adjusted for 156x156 input\n",
    "        self.relu4 = nn.ReLU()\n",
    "        self.dropout = nn.Dropout(dropout_prob)\n",
    "        self.fc2 = nn.Linear(512, num_classes)\n",
    "\n",
    "    def forward(self, x):\n",
    "        x = self.conv1(x)\n",
    "        x = self.relu1(x)\n",
    "        x = self.pool1(x)\n",
    "\n",
    "        x = self.conv2(x)\n",
    "        x = self.relu2(x)\n",
    "        x = self.pool2(x)\n",
    "\n",
    "        x = self.conv3(x)\n",
    "        x = self.relu3(x)\n",
    "        x = self.pool3(x)\n",
    "\n",
    "        x = x.view(x.size(0), -1)\n",
    "        x = self.fc1(x)\n",
    "        x = self.relu4(x)\n",
    "        x = self.dropout(x)\n",
    "        x = self.fc2(x)\n",
    "        return x\n",
    "\n",
    "class SmallComplexModel(nn.Module):\n",
    "    def __init__(self, num_classes=2):\n",
    "        super(SmallComplexModel, self).__init__()\n",
    "        \n",
    "        # Load the pre-trained MobileNetV2 model\n",
    "        mobilenet_v2 = models.mobilenet_v2(pretrained=True)\n",
    "        \n",
    "        # Remove the classification head of MobileNetV2\n",
    "        self.features = mobilenet_v2.features\n",
    "        \n",
    "        # Add custom layers for your task\n",
    "        self.avgpool = nn.AdaptiveAvgPool2d(1)\n",
    "        self.fc = nn.Sequential(\n",
    "            nn.Dropout(0.2),\n",
    "            nn.Linear(1280, num_classes)\n",
    "        )\n",
    "\n",
    "    def forward(self, x):\n",
    "        # Feature extraction with MobileNetV2\n",
    "        x = self.features(x)\n",
    "        \n",
    "        # Global average pooling\n",
    "        x = self.avgpool(x)\n",
    "        \n",
    "        # Reshape for fully connected layer\n",
    "        x = x.view(x.size(0), -1)\n",
    "        \n",
    "        # Fully connected layers\n",
    "        x = self.fc(x)\n",
    "        \n",
    "        return x\n",
    "\n",
    "# Create an instance of the model\n",
    "#model = SmallComplexModel().to(device)\n",
    "\n",
    "class ResModel(nn.Module):\n",
    "    def __init__(self, num_classes=2):\n",
    "        super(ResModel, self).__init__()\n",
    "        \n",
    "        # Load the pre-trained MobileNetV2 model\n",
    "        resnet18 = rnet18(pretrained=True)\n",
    "        \n",
    "       # Remove the classification head of ResNet18\n",
    "        self.features = nn.Sequential(*list(resnet18.children())[:-1])\n",
    "\n",
    "        # Add custom layers for your task\n",
    "#        self.fc = nn.Sequential(\n",
    "#            nn.Flatten(),\n",
    "#            nn.Linear(512, num_classes)\n",
    "#        )\n",
    "        self.fc = nn.Sequential(\n",
    "            nn.Flatten(),\n",
    "            nn.Linear(512, 512),  # You can adjust the output size of the linear layer\n",
    "            nn.ReLU(),           # Add activation function\n",
    "            nn.Dropout(p=dropout_prob),  # Dropout layer\n",
    "            nn.Linear(512, num_classes)\n",
    "        )\n",
    "\n",
    "\n",
    "    def forward(self, x):\n",
    "        # Feature extraction with ResNet18\n",
    "        x = self.features(x)\n",
    "\n",
    "        # Fully connected layers\n",
    "        x = self.fc(x)\n",
    "\n",
    "        return x\n",
    "\n",
    "model = ResModel().to(device)\n",
    "        \n",
    "\n",
    "# Print the model architecture\n",
    "#print(model)\n",
    "# Instantiate the model\n",
    "#complex_model = ComplexCNN().to(device)\n",
    "#model = ComplexCNN().to(device)\n",
    "# Instantiate the model\n",
    "#complex_model = ComplexCNN().to(device)\n",
    "#model = ComplexCNN().to(device)"
   ]
  },
  {
   "cell_type": "code",
   "execution_count": 16,
   "metadata": {
    "id": "zwm4lLcprI_h"
   },
   "outputs": [
    {
     "name": "stdout",
     "output_type": "stream",
     "text": [
      "Collecting opencv-python-headless\n",
      "  Downloading opencv_python_headless-4.9.0.80-cp37-abi3-manylinux_2_17_x86_64.manylinux2014_x86_64.whl (49.6 MB)\n",
      "\u001b[K     |████████████████████████████████| 49.6 MB 360 kB/s eta 0:00:01\n",
      "\u001b[?25hRequirement already satisfied: numpy>=1.17.0 in /home/angelats11/.local/lib/python3.9/site-packages (from opencv-python-headless) (1.26.0)\n",
      "Installing collected packages: opencv-python-headless\n",
      "Successfully installed opencv-python-headless-4.9.0.80\n"
     ]
    }
   ],
   "source": []
  },
  {
   "cell_type": "code",
   "execution_count": 36,
   "metadata": {
    "id": "qgMjtvGXjPuT"
   },
   "outputs": [
    {
     "name": "stdout",
     "output_type": "stream",
     "text": [
      "<torch.utils.data.dataset.ConcatDataset object at 0x7ff385ca9c10>\n"
     ]
    }
   ],
   "source": [
    "#shape = (160,160,3)\n",
    "shape = (50, 50, 12)\n",
    "#from PIL import Image\n",
    "#import cv2\n",
    "#import tifffile\n",
    "\n",
    "from PIL import Image\n",
    "import rasterio as rio\n",
    "from torch.utils.data.sampler import SubsetRandomSampler\n",
    "from torchvision.transforms import ToTensor\n",
    "\n",
    "\n",
    "anomalies = []\n",
    "'''\n",
    "class ToTensorCustom(object):\n",
    "    def __call__(self, pic):\n",
    "        if isinstance(pic, np.ndarray):\n",
    "            if pic.dtype == np.uint16:\n",
    "                pic = pic.astype(np.float32) / 65535.0  # Normalize to [0, 1]\n",
    "            return torch.from_numpy(pic)\n",
    "        else:\n",
    "            raise TypeError('Unsupported type for conversion to tensor.')\n",
    "'''\n",
    "\n",
    "class CustomDatasetS2(Dataset):\n",
    "    def __init__(self, data_dir, transform=None, num_channel=12):\n",
    "        self.data_dir = data_dir\n",
    "        self.transform = transform\n",
    "        self.file_list = []\n",
    "        for dira in data_dir:\n",
    "            self.file_list.extend([os.path.join(dira, f) for f in os.listdir(dira)])\n",
    "        self.num_channel = num_channel\n",
    "\n",
    "    def __len__(self):\n",
    "        return len(self.file_list)\n",
    "\n",
    "    def __getitem__(self, idx):\n",
    "        img_name = self.file_list[idx]\n",
    "        #print(img_name)\n",
    "        #img_name = os.path.join(self.data_dir, self.file_list[idx])\n",
    "        if img_name.endswith('.tif'):\n",
    "            if img_name in anomalies:\n",
    "                pass\n",
    "            with rio.open(img_name) as img :\n",
    "                image= img.read()\n",
    "                image = image.astype('float32')\n",
    "    \n",
    "                image = image[:self.num_channel,:50,:50]\n",
    "                image = np.transpose(image,(1,2,0))\n",
    "                #print\n",
    "                if image.shape != (50,50,self.num_channel):\n",
    "                    print('anomaly')\n",
    "                    anomalies.append(img_name)\n",
    "                    return torch.zeros(50, 50,self.num_channel), -1\n",
    "                    #return torch.zeros(10, 10,12), -1\n",
    "                \n",
    "                if self.transform:\n",
    "                    image = self.transform(image)\n",
    "            label = 0 if \"orchard\" in self.data_dir else 1  # Assuming \"orchard\" is class 0 and \"forest\" is class 1\n",
    "            return image, label, img_name\n",
    "\n",
    "\n",
    "\n",
    "'''\n",
    "class CustomDataset(Dataset):\n",
    "    def __init__(self, data_dir, transform=None):\n",
    "        self.data_dir = data_dir\n",
    "        self.transform = transform\n",
    "        #self.file_list = os.listdir(data_dir)\n",
    "        self.file_list = []\n",
    "        for dira in data_dir:\n",
    "            self.file_list.extend([os.path.join(dira, f) for f in os.listdir(dira)])\n",
    "\n",
    "\n",
    "    def __len__(self):\n",
    "        return len(self.file_list)\n",
    "\n",
    "    def __getitem__(self, idx):\n",
    "        img_name = self.file_list[idx]\n",
    "        #if img_name in anoms:\n",
    "        #    return torch.zeros(160, 160, 3)\n",
    "        #image = np.squeeze(np.load(img_name, allow_pickle=True))\n",
    "#        image = Image.open(img_name)\n",
    "        #print(img_name)\n",
    "        #image = cv2.imread(img_name, cv2.IMREAD_UNCHANGED)\n",
    "        #print(image)\n",
    "        #channels = cv2.split(image)\n",
    "        #print(channels)\n",
    "        #stacked_image = np.stack(channels, axis=-1)\n",
    "        #image = torch.from_numpy(stacked_image)\n",
    "        image = tifffile.imread(img_name)\n",
    "        image_array = np.array(image,dtype=np.float32)#.astype(float)\n",
    "        #torch_image = torch.from_numpy(image_array)\n",
    "\n",
    "        label = 0 if any(\"orchard\" in d for d in self.data_dir) else 1\n",
    "        if self.transform:\n",
    "            image = self.transform(image)\n",
    "        return image, label, img_name\n",
    "\n",
    "        ###\n",
    "        img_name = os.path.join(self.data_dir, self.file_list[idx])\n",
    "        if img_name in anoms:\n",
    "          #return torch.zeros(50,50,3), -1\n",
    "          return torch.zeros(160,160,3)\n",
    "        image = np.squeeze(np.load(img_name, allow_pickle=True))\n",
    "        #image = np.squeeze(np.load(img_name))[:,53:103,53:103]#.unsqueeze(0).unsqueeze(0)\n",
    "        #print(image)\n",
    "        #print(image.shape)\n",
    "        #print(image)\n",
    "        #if self.transform:\n",
    "        #    image = self.transform(image)\n",
    "        label = 0 if \"orchard\" in self.data_dir else 1  # Assuming \"orchard\" is class 0 and \"forest\" is class 1\n",
    "        return image, label, img_name\n",
    "        ###\n",
    "'''\n",
    "\n",
    "\n",
    "# Data augmentation and normalization\n",
    "transform = transforms.Compose([transforms.ToTensor()])#, transforms.Normalize((0.5, 0.5, 0.5), (0.5, 0.5, 0.5))])#, transforms.Normalize((0.5, 0.5, 0.5), (0.5, 0.5, 0.5))])\n",
    "\n",
    "# Create data loaders for training and validation\n",
    "#orchard_dataset = CustomDataset(orchard_path, transform)\n",
    "#forest_dataset = CustomDataset(forest_path, transform)\n",
    "#dataset = CustomDataset(orchard_path, transform) + CustomDataset(forest_path, transform)\n",
    "datasets2 = CustomDatasetS2(orchard_path, transform, 3) + CustomDatasetS2(forest_path, transform, 3)\n",
    "print(datasets2)\n",
    "split_ratio = 0.8\n",
    "num_data = len(datasets2)\n",
    "split = int(np.floor(split_ratio * num_data))\n",
    "indices = list(range(num_data))\n",
    "\n",
    "#indices = [idx for idx in indices if datasets2[idx][1] != -1]\n",
    "#print('datasets')\n",
    "#print(datasets2[idx])\n",
    "\n",
    "np.random.shuffle(indices)\n",
    "\n",
    "\n",
    "# Create data samplers for training and testing sets\n",
    "train_indices, test_indices = indices[:split], indices[split:]\n",
    "train_sampler = SubsetRandomSampler(train_indices)\n",
    "test_sampler = SubsetRandomSampler(test_indices)\n",
    "\n",
    "# Create data loaders for training and testing\n",
    "train_loader = DataLoader(datasets2, batch_size=batch_size, sampler=train_sampler)\n",
    "test_loader = DataLoader(datasets2, batch_size=batch_size, sampler=test_sampler)\n",
    "# Use DataLoader to handle batching and shuffling\n",
    "#orchard_loader = DataLoader(orchard_dataset, batch_size=batch_size, shuffle=True)\n",
    "#forest_loader = DataLoader(forest_dataset, batch_size=batch_size, shuffle=True)"
   ]
  },
  {
   "cell_type": "code",
   "execution_count": 38,
   "metadata": {
    "id": "v0y7oS_-_5_M"
   },
   "outputs": [],
   "source": [
    "import torch.nn as nn\n",
    "\n",
    "class s250CNN(nn.Module):\n",
    "    def __init__(self, num_classes=2):\n",
    "        super(s250CNN, self).__init__()\n",
    "        # Define your model layers\n",
    "        self.conv1 = nn.Conv2d(12, 16, kernel_size=3, stride=1, padding=1)\n",
    "        self.relu1 = nn.ReLU()\n",
    "        self.pool1 = nn.MaxPool2d(kernel_size=2, stride=2)\n",
    "        self.conv2 = nn.Conv2d(16, 32, kernel_size=3, stride=1, padding=1)\n",
    "        self.relu2 = nn.ReLU()\n",
    "        self.pool2 = nn.MaxPool2d(kernel_size=2, stride=2)\n",
    "        self.fc1 = nn.Linear(32 * 25 * 25, 64)  # Adjusted for 50x50 input\n",
    "        self.relu3 = nn.ReLU()\n",
    "        self.fc2 = nn.Linear(64, num_classes)\n",
    "\n",
    "    def forward(self, x):\n",
    "        x = self.conv1(x)\n",
    "        x = self.relu1(x)\n",
    "        x = self.pool1(x)\n",
    "        x = self.conv2(x)\n",
    "        x = self.relu2(x)\n",
    "        x = self.pool2(x)\n",
    "        x = x.view(x.size(0), -1)  # Ensure correct flattening\n",
    "        x = self.fc1(x)\n",
    "        x = self.relu3(x)\n",
    "        x = self.fc2(x)\n",
    "        return x\n",
    "\n",
    "# Create an instance of the modified model\n",
    "model = s250CNN().to(device)\n",
    "\n",
    "class RGB50CNN(nn.Module):\n",
    "    def __init__(self, num_classes=2):\n",
    "        super(RGB50CNN, self).__init__()\n",
    "        # Define your model layers\n",
    "        self.conv1 = nn.Conv2d(3, 16, kernel_size=3, stride=1, padding=1)\n",
    "        self.relu1 = nn.ReLU()\n",
    "        self.pool1 = nn.MaxPool2d(kernel_size=2, stride=2)\n",
    "        self.conv2 = nn.Conv2d(16, 32, kernel_size=3, stride=1, padding=1)\n",
    "        self.relu2 = nn.ReLU()\n",
    "        self.pool2 = nn.MaxPool2d(kernel_size=2, stride=2)\n",
    "        self.fc1 = nn.Linear(32 * 12 * 12, 64)  # Adjusted for 50x50 input\n",
    "        self.relu3 = nn.ReLU()\n",
    "        self.fc2 = nn.Linear(64, num_classes)\n",
    "\n",
    "    def forward(self, x):\n",
    "        x = self.conv1(x)\n",
    "        x = self.relu1(x)\n",
    "        x = self.pool1(x)\n",
    "        x = self.conv2(x)\n",
    "        x = self.relu2(x)\n",
    "        x = self.pool2(x)\n",
    "        x = x.view(x.size(0), -1)  # Ensure correct flattening\n",
    "        x = self.fc1(x)\n",
    "        x = self.relu3(x)\n",
    "        x = self.fc2(x)\n",
    "        return x\n",
    "\n",
    "# Create an instance of the modified model\n",
    "model = RGB50CNN().to(device)\n"
   ]
  },
  {
   "cell_type": "code",
   "execution_count": 39,
   "metadata": {
    "id": "4w76Hy49jWcH"
   },
   "outputs": [],
   "source": [
    "criterion = nn.CrossEntropyLoss()\n",
    "optimizer = optim.Adam(model.parameters(), lr=learning_rate)\n"
   ]
  },
  {
   "cell_type": "code",
   "execution_count": 40,
   "metadata": {
    "id": "84KjINMUj7YM"
   },
   "outputs": [],
   "source": [
    "import torch.nn.functional as F\n",
    "num_epochs = 30\n",
    "\n",
    "def train(model, train_loader, optimizer, criterion):\n",
    "    model.train()\n",
    "    total_loss = 0\n",
    "    correct = 0\n",
    "    total = 0\n",
    "    for batch, (images, labels, img_name) in enumerate(train_loader):\n",
    "        images = images.to(device)\n",
    "        labels = labels.to(device)\n",
    "\n",
    "        optimizer.zero_grad()\n",
    "        outputs = model(images)\n",
    "        loss = criterion(outputs, labels)\n",
    "        loss.backward()\n",
    "        optimizer.step()\n",
    "\n",
    "        total_loss += loss.item()\n",
    "        _, predicted = outputs.max(1)\n",
    "        total += labels.size(0)\n",
    "        correct += predicted.eq(labels).sum().item()\n",
    "\n",
    "    train_accuracy = 100 * correct / total\n",
    "    return total_loss / (batch + 1), train_accuracy\n",
    "\n",
    "def validate(model, val_loader, criterion):\n",
    "    model.eval()\n",
    "    total_loss = 0\n",
    "    correct = 0\n",
    "    total = 0\n",
    "    misclassified_paths = []\n",
    "    with torch.no_grad():\n",
    "        for batch, (images, labels, img_name) in enumerate(val_loader):\n",
    "            images = images.to(device)\n",
    "            labels = labels.to(device)\n",
    "\n",
    "            outputs = model(images)\n",
    "            loss = criterion(outputs, labels)\n",
    "\n",
    "            total_loss += loss.item()\n",
    "            _, predicted = outputs.max(1)\n",
    "            total += labels.size(0)\n",
    "            correct += predicted.eq(labels).sum().item()\n",
    "            incorrect_indices = (predicted != labels).nonzero()\n",
    "            misclassified_paths.extend([img_name[i] for i in incorrect_indices])\n",
    "\n",
    "\n",
    "    val_accuracy = 100 * correct / total\n",
    "    return total_loss / (batch + 1), val_accuracy, misclassified_paths\n"
   ]
  },
  {
   "cell_type": "code",
   "execution_count": 41,
   "metadata": {
    "colab": {
     "base_uri": "https://localhost:8080/",
     "height": 1000
    },
    "id": "N1o1y_X3jWWF",
    "outputId": "b8fb794b-4684-4f89-9460-d57c18880e37"
   },
   "outputs": [
    {
     "name": "stdout",
     "output_type": "stream",
     "text": [
      "anomaly\n"
     ]
    },
    {
     "ename": "RuntimeError",
     "evalue": "each element in list of batch should be of equal size",
     "output_type": "error",
     "traceback": [
      "\u001b[0;31m---------------------------------------------------------------------------\u001b[0m",
      "\u001b[0;31mRuntimeError\u001b[0m                              Traceback (most recent call last)",
      "Cell \u001b[0;32mIn[41], line 11\u001b[0m\n\u001b[1;32m      9\u001b[0m mistakes \u001b[38;5;241m=\u001b[39m []\n\u001b[1;32m     10\u001b[0m \u001b[38;5;28;01mfor\u001b[39;00m epoch \u001b[38;5;129;01min\u001b[39;00m \u001b[38;5;28mrange\u001b[39m(num_epochs):\n\u001b[0;32m---> 11\u001b[0m     train_loss, train_accuracy \u001b[38;5;241m=\u001b[39m \u001b[43mtrain\u001b[49m\u001b[43m(\u001b[49m\u001b[43mmodel\u001b[49m\u001b[43m,\u001b[49m\u001b[43m \u001b[49m\u001b[43mtrain_loader\u001b[49m\u001b[43m,\u001b[49m\u001b[43m \u001b[49m\u001b[43moptimizer\u001b[49m\u001b[43m,\u001b[49m\u001b[43m \u001b[49m\u001b[43mcriterion\u001b[49m\u001b[43m)\u001b[49m\n\u001b[1;32m     12\u001b[0m     val_loss, val_accuracy, misclf \u001b[38;5;241m=\u001b[39m validate(model, test_loader, criterion)\n\u001b[1;32m     13\u001b[0m     trnl\u001b[38;5;241m.\u001b[39mappend(train_loss)\n",
      "Cell \u001b[0;32mIn[40], line 9\u001b[0m, in \u001b[0;36mtrain\u001b[0;34m(model, train_loader, optimizer, criterion)\u001b[0m\n\u001b[1;32m      7\u001b[0m correct \u001b[38;5;241m=\u001b[39m \u001b[38;5;241m0\u001b[39m\n\u001b[1;32m      8\u001b[0m total \u001b[38;5;241m=\u001b[39m \u001b[38;5;241m0\u001b[39m\n\u001b[0;32m----> 9\u001b[0m \u001b[38;5;28;01mfor\u001b[39;00m batch, (images, labels, img_name) \u001b[38;5;129;01min\u001b[39;00m \u001b[38;5;28menumerate\u001b[39m(train_loader):\n\u001b[1;32m     10\u001b[0m     images \u001b[38;5;241m=\u001b[39m images\u001b[38;5;241m.\u001b[39mto(device)\n\u001b[1;32m     11\u001b[0m     labels \u001b[38;5;241m=\u001b[39m labels\u001b[38;5;241m.\u001b[39mto(device)\n",
      "File \u001b[0;32m~/.local/lib/python3.9/site-packages/torch/utils/data/dataloader.py:630\u001b[0m, in \u001b[0;36m_BaseDataLoaderIter.__next__\u001b[0;34m(self)\u001b[0m\n\u001b[1;32m    627\u001b[0m \u001b[38;5;28;01mif\u001b[39;00m \u001b[38;5;28mself\u001b[39m\u001b[38;5;241m.\u001b[39m_sampler_iter \u001b[38;5;129;01mis\u001b[39;00m \u001b[38;5;28;01mNone\u001b[39;00m:\n\u001b[1;32m    628\u001b[0m     \u001b[38;5;66;03m# TODO(https://github.com/pytorch/pytorch/issues/76750)\u001b[39;00m\n\u001b[1;32m    629\u001b[0m     \u001b[38;5;28mself\u001b[39m\u001b[38;5;241m.\u001b[39m_reset()  \u001b[38;5;66;03m# type: ignore[call-arg]\u001b[39;00m\n\u001b[0;32m--> 630\u001b[0m data \u001b[38;5;241m=\u001b[39m \u001b[38;5;28;43mself\u001b[39;49m\u001b[38;5;241;43m.\u001b[39;49m\u001b[43m_next_data\u001b[49m\u001b[43m(\u001b[49m\u001b[43m)\u001b[49m\n\u001b[1;32m    631\u001b[0m \u001b[38;5;28mself\u001b[39m\u001b[38;5;241m.\u001b[39m_num_yielded \u001b[38;5;241m+\u001b[39m\u001b[38;5;241m=\u001b[39m \u001b[38;5;241m1\u001b[39m\n\u001b[1;32m    632\u001b[0m \u001b[38;5;28;01mif\u001b[39;00m \u001b[38;5;28mself\u001b[39m\u001b[38;5;241m.\u001b[39m_dataset_kind \u001b[38;5;241m==\u001b[39m _DatasetKind\u001b[38;5;241m.\u001b[39mIterable \u001b[38;5;129;01mand\u001b[39;00m \\\n\u001b[1;32m    633\u001b[0m         \u001b[38;5;28mself\u001b[39m\u001b[38;5;241m.\u001b[39m_IterableDataset_len_called \u001b[38;5;129;01mis\u001b[39;00m \u001b[38;5;129;01mnot\u001b[39;00m \u001b[38;5;28;01mNone\u001b[39;00m \u001b[38;5;129;01mand\u001b[39;00m \\\n\u001b[1;32m    634\u001b[0m         \u001b[38;5;28mself\u001b[39m\u001b[38;5;241m.\u001b[39m_num_yielded \u001b[38;5;241m>\u001b[39m \u001b[38;5;28mself\u001b[39m\u001b[38;5;241m.\u001b[39m_IterableDataset_len_called:\n",
      "File \u001b[0;32m~/.local/lib/python3.9/site-packages/torch/utils/data/dataloader.py:674\u001b[0m, in \u001b[0;36m_SingleProcessDataLoaderIter._next_data\u001b[0;34m(self)\u001b[0m\n\u001b[1;32m    672\u001b[0m \u001b[38;5;28;01mdef\u001b[39;00m \u001b[38;5;21m_next_data\u001b[39m(\u001b[38;5;28mself\u001b[39m):\n\u001b[1;32m    673\u001b[0m     index \u001b[38;5;241m=\u001b[39m \u001b[38;5;28mself\u001b[39m\u001b[38;5;241m.\u001b[39m_next_index()  \u001b[38;5;66;03m# may raise StopIteration\u001b[39;00m\n\u001b[0;32m--> 674\u001b[0m     data \u001b[38;5;241m=\u001b[39m \u001b[38;5;28;43mself\u001b[39;49m\u001b[38;5;241;43m.\u001b[39;49m\u001b[43m_dataset_fetcher\u001b[49m\u001b[38;5;241;43m.\u001b[39;49m\u001b[43mfetch\u001b[49m\u001b[43m(\u001b[49m\u001b[43mindex\u001b[49m\u001b[43m)\u001b[49m  \u001b[38;5;66;03m# may raise StopIteration\u001b[39;00m\n\u001b[1;32m    675\u001b[0m     \u001b[38;5;28;01mif\u001b[39;00m \u001b[38;5;28mself\u001b[39m\u001b[38;5;241m.\u001b[39m_pin_memory:\n\u001b[1;32m    676\u001b[0m         data \u001b[38;5;241m=\u001b[39m _utils\u001b[38;5;241m.\u001b[39mpin_memory\u001b[38;5;241m.\u001b[39mpin_memory(data, \u001b[38;5;28mself\u001b[39m\u001b[38;5;241m.\u001b[39m_pin_memory_device)\n",
      "File \u001b[0;32m~/.local/lib/python3.9/site-packages/torch/utils/data/_utils/fetch.py:54\u001b[0m, in \u001b[0;36m_MapDatasetFetcher.fetch\u001b[0;34m(self, possibly_batched_index)\u001b[0m\n\u001b[1;32m     52\u001b[0m \u001b[38;5;28;01melse\u001b[39;00m:\n\u001b[1;32m     53\u001b[0m     data \u001b[38;5;241m=\u001b[39m \u001b[38;5;28mself\u001b[39m\u001b[38;5;241m.\u001b[39mdataset[possibly_batched_index]\n\u001b[0;32m---> 54\u001b[0m \u001b[38;5;28;01mreturn\u001b[39;00m \u001b[38;5;28;43mself\u001b[39;49m\u001b[38;5;241;43m.\u001b[39;49m\u001b[43mcollate_fn\u001b[49m\u001b[43m(\u001b[49m\u001b[43mdata\u001b[49m\u001b[43m)\u001b[49m\n",
      "File \u001b[0;32m~/.local/lib/python3.9/site-packages/torch/utils/data/_utils/collate.py:265\u001b[0m, in \u001b[0;36mdefault_collate\u001b[0;34m(batch)\u001b[0m\n\u001b[1;32m    204\u001b[0m \u001b[38;5;28;01mdef\u001b[39;00m \u001b[38;5;21mdefault_collate\u001b[39m(batch):\n\u001b[1;32m    205\u001b[0m     \u001b[38;5;124mr\u001b[39m\u001b[38;5;124;03m\"\"\"\u001b[39;00m\n\u001b[1;32m    206\u001b[0m \u001b[38;5;124;03m        Function that takes in a batch of data and puts the elements within the batch\u001b[39;00m\n\u001b[1;32m    207\u001b[0m \u001b[38;5;124;03m        into a tensor with an additional outer dimension - batch size. The exact output type can be\u001b[39;00m\n\u001b[0;32m   (...)\u001b[0m\n\u001b[1;32m    263\u001b[0m \u001b[38;5;124;03m            >>> default_collate(batch)  # Handle `CustomType` automatically\u001b[39;00m\n\u001b[1;32m    264\u001b[0m \u001b[38;5;124;03m    \"\"\"\u001b[39;00m\n\u001b[0;32m--> 265\u001b[0m     \u001b[38;5;28;01mreturn\u001b[39;00m \u001b[43mcollate\u001b[49m\u001b[43m(\u001b[49m\u001b[43mbatch\u001b[49m\u001b[43m,\u001b[49m\u001b[43m \u001b[49m\u001b[43mcollate_fn_map\u001b[49m\u001b[38;5;241;43m=\u001b[39;49m\u001b[43mdefault_collate_fn_map\u001b[49m\u001b[43m)\u001b[49m\n",
      "File \u001b[0;32m~/.local/lib/python3.9/site-packages/torch/utils/data/_utils/collate.py:138\u001b[0m, in \u001b[0;36mcollate\u001b[0;34m(batch, collate_fn_map)\u001b[0m\n\u001b[1;32m    136\u001b[0m elem_size \u001b[38;5;241m=\u001b[39m \u001b[38;5;28mlen\u001b[39m(\u001b[38;5;28mnext\u001b[39m(it))\n\u001b[1;32m    137\u001b[0m \u001b[38;5;28;01mif\u001b[39;00m \u001b[38;5;129;01mnot\u001b[39;00m \u001b[38;5;28mall\u001b[39m(\u001b[38;5;28mlen\u001b[39m(elem) \u001b[38;5;241m==\u001b[39m elem_size \u001b[38;5;28;01mfor\u001b[39;00m elem \u001b[38;5;129;01min\u001b[39;00m it):\n\u001b[0;32m--> 138\u001b[0m     \u001b[38;5;28;01mraise\u001b[39;00m \u001b[38;5;167;01mRuntimeError\u001b[39;00m(\u001b[38;5;124m'\u001b[39m\u001b[38;5;124meach element in list of batch should be of equal size\u001b[39m\u001b[38;5;124m'\u001b[39m)\n\u001b[1;32m    139\u001b[0m transposed \u001b[38;5;241m=\u001b[39m \u001b[38;5;28mlist\u001b[39m(\u001b[38;5;28mzip\u001b[39m(\u001b[38;5;241m*\u001b[39mbatch))  \u001b[38;5;66;03m# It may be accessed twice, so we use a list.\u001b[39;00m\n\u001b[1;32m    141\u001b[0m \u001b[38;5;28;01mif\u001b[39;00m \u001b[38;5;28misinstance\u001b[39m(elem, \u001b[38;5;28mtuple\u001b[39m):\n",
      "\u001b[0;31mRuntimeError\u001b[0m: each element in list of batch should be of equal size"
     ]
    }
   ],
   "source": [
    "\n",
    "# ... (optimizer and criterion)\n",
    "\n",
    "# Training loop with validation\n",
    "trnl = []\n",
    "vall = []\n",
    "trna=[]\n",
    "vala=[]\n",
    "epochs = [x for x in range(num_epochs)]\n",
    "mistakes = []\n",
    "for epoch in range(num_epochs):\n",
    "    train_loss, train_accuracy = train(model, train_loader, optimizer, criterion)\n",
    "    val_loss, val_accuracy, misclf = validate(model, test_loader, criterion)\n",
    "    trnl.append(train_loss)\n",
    "    vall.append(val_loss)\n",
    "    trna.append(train_accuracy)\n",
    "    vala.append(val_accuracy)\n",
    "    print(f\"Epoch [{epoch + 1}/{num_epochs}] - Train Loss: {train_loss:.4f}, Train Acc: {train_accuracy:.2f}%, Val Loss: {val_loss:.4f}, Val Acc: {val_accuracy:.2f}%\")\n",
    "    if epoch == 20:\n",
    "        print('epoch 20 erros')\n",
    "    if epoch == num_epochs-1:\n",
    "        print('last epoch errors')\n",
    "        print(misclf)\n",
    "        mistakes = misclf\n",
    "        \n",
    "print(\"Training complete.\")\n",
    "import matplotlib.pyplot as plt\n",
    "plt.plot(epochs,trnl,label='train loss')\n",
    "plt.plot(epochs,vall,label='val loss')\n",
    "plt.xlabel('epoch')\n",
    "plt.ylabel('loss')\n",
    "plt.legend()\n",
    "plt.show()\n",
    "\n",
    "plt.plot(epochs,trna,label='train acc')\n",
    "plt.plot(epochs,vala,label='val acc')\n",
    "plt.xlabel('epoch')\n",
    "plt.ylabel('accuracy')\n",
    "plt.legend()\n",
    "plt.show()"
   ]
  },
  {
   "cell_type": "code",
   "execution_count": null,
   "metadata": {
    "colab": {
     "base_uri": "https://localhost:8080/",
     "height": 1000
    },
    "id": "N1o1y_X3jWWF",
    "outputId": "b8fb794b-4684-4f89-9460-d57c18880e37"
   },
   "outputs": [],
   "source": []
  },
  {
   "cell_type": "code",
   "execution_count": null,
   "metadata": {
    "colab": {
     "base_uri": "https://localhost:8080/",
     "height": 304
    },
    "id": "mmGYcZBJiYQb",
    "outputId": "019381d2-cdac-4f7f-bf91-6e1df99845b6"
   },
   "outputs": [
    {
     "ename": "ValueError",
     "evalue": "ignored",
     "output_type": "error",
     "traceback": [
      "\u001b[0;31m---------------------------------------------------------------------------\u001b[0m",
      "\u001b[0;31mValueError\u001b[0m                                Traceback (most recent call last)",
      "\u001b[0;32m<ipython-input-73-15fd4e297515>\u001b[0m in \u001b[0;36m<cell line: 1>\u001b[0;34m()\u001b[0m\n\u001b[0;32m----> 1\u001b[0;31m \u001b[0mmodel\u001b[0m\u001b[0;34m.\u001b[0m\u001b[0mtrain\u001b[0m\u001b[0;34m(\u001b[0m\u001b[0mtrain_loader\u001b[0m\u001b[0;34m)\u001b[0m\u001b[0;34m\u001b[0m\u001b[0;34m\u001b[0m\u001b[0m\n\u001b[0m",
      "\u001b[0;32m/usr/local/lib/python3.10/dist-packages/torch/nn/modules/module.py\u001b[0m in \u001b[0;36mtrain\u001b[0;34m(self, mode)\u001b[0m\n\u001b[1;32m   2393\u001b[0m         \"\"\"\n\u001b[1;32m   2394\u001b[0m         \u001b[0;32mif\u001b[0m \u001b[0;32mnot\u001b[0m \u001b[0misinstance\u001b[0m\u001b[0;34m(\u001b[0m\u001b[0mmode\u001b[0m\u001b[0;34m,\u001b[0m \u001b[0mbool\u001b[0m\u001b[0;34m)\u001b[0m\u001b[0;34m:\u001b[0m\u001b[0;34m\u001b[0m\u001b[0;34m\u001b[0m\u001b[0m\n\u001b[0;32m-> 2395\u001b[0;31m             \u001b[0;32mraise\u001b[0m \u001b[0mValueError\u001b[0m\u001b[0;34m(\u001b[0m\u001b[0;34m\"training mode is expected to be boolean\"\u001b[0m\u001b[0;34m)\u001b[0m\u001b[0;34m\u001b[0m\u001b[0;34m\u001b[0m\u001b[0m\n\u001b[0m\u001b[1;32m   2396\u001b[0m         \u001b[0mself\u001b[0m\u001b[0;34m.\u001b[0m\u001b[0mtraining\u001b[0m \u001b[0;34m=\u001b[0m \u001b[0mmode\u001b[0m\u001b[0;34m\u001b[0m\u001b[0;34m\u001b[0m\u001b[0m\n\u001b[1;32m   2397\u001b[0m         \u001b[0;32mfor\u001b[0m \u001b[0mmodule\u001b[0m \u001b[0;32min\u001b[0m \u001b[0mself\u001b[0m\u001b[0;34m.\u001b[0m\u001b[0mchildren\u001b[0m\u001b[0;34m(\u001b[0m\u001b[0;34m)\u001b[0m\u001b[0;34m:\u001b[0m\u001b[0;34m\u001b[0m\u001b[0;34m\u001b[0m\u001b[0m\n",
      "\u001b[0;31mValueError\u001b[0m: training mode is expected to be boolean"
     ]
    }
   ],
   "source": [
    "#model.train(train_loader)"
   ]
  },
  {
   "cell_type": "markdown",
   "metadata": {
    "id": "CPKq65ZIZuzn"
   },
   "source": [
    "NEXT: THE PART WHERE WE TRAIN ON SENTINEL-2 ALONE AS A BENCHMARK (BOTTOM TIE PERFOMANCE TO BEAT)\n"
   ]
  },
  {
   "cell_type": "code",
   "execution_count": null,
   "metadata": {
    "id": "LiVP5npmjWP3"
   },
   "outputs": [],
   "source": [
    "#orchard_path = \"mountdata/euroorchards2-50m\"\n",
    "#forest_path = \"mountdata/euroforests2-50m\"\n",
    "\n",
    "orchard_path = 'mountdata/zaforchards2-50m'\n",
    "forest_path = 'mountdata/zafforests2-50m'"
   ]
  },
  {
   "cell_type": "code",
   "execution_count": null,
   "metadata": {
    "colab": {
     "base_uri": "https://localhost:8080/"
    },
    "id": "IyaA90wzZtPQ",
    "outputId": "d006581f-676b-493f-cfb6-ee9324e7eb03"
   },
   "outputs": [],
   "source": [
    "#import tifffile\n",
    "from PIL import Image\n",
    "import rasterio as rio\n",
    "\n",
    "#import cv2\n",
    "#import gdal\n",
    "from torch.utils.data.sampler import SubsetRandomSampler\n",
    "#import imagecodecs\n",
    "from skimage import io\n",
    "\n",
    "anomalies = []\n",
    "class CustomDatasetS2(Dataset):\n",
    "    def __init__(self, data_dir, transform=None, num_channel=12):\n",
    "        self.data_dir = data_dir\n",
    "        self.transform = transform\n",
    "        self.file_list = os.listdir(data_dir)\n",
    "        self.num_channel = num_channel\n",
    "\n",
    "    def __len__(self):\n",
    "        return len(self.file_list)\n",
    "\n",
    "    def __getitem__(self, idx):\n",
    "        img_name = os.path.join(self.data_dir, self.file_list[idx])\n",
    "        if img_name.endswith('.tif'):\n",
    "            if img_name in anomalies:\n",
    "                pass\n",
    "            with rio.open(img_name) as img :\n",
    "                image= img.read()\n",
    "                image = image.astype('float32')\n",
    "    \n",
    "                image = image[:self.num_channel,2:52,2:52]\n",
    "                image = np.transpose(image,(1,2,0))\n",
    "                #print\n",
    "                if image.shape != (50,50,self.num_channel):\n",
    "                    print('anomaly')\n",
    "                    anomalies.append(img_name)\n",
    "                    return torch.zeros(50, 50,self.num_channel), -1\n",
    "                    #return torch.zeros(10, 10,12), -1\n",
    "                \n",
    "                if self.transform:\n",
    "                    image = self.transform(image)\n",
    "            label = 0 if \"orchard\" in self.data_dir else 1  # Assuming \"orchard\" is class 0 and \"forest\" is class 1\n",
    "            return image, label\n",
    "\n",
    "transform = transforms.Compose([transforms.ToTensor()])\n",
    "bicubtransform = transforms.Compose([transforms.ToPILImage(), transforms.Resize((160, 160), interpolation=Image.BICUBIC), transforms.ToTensor()])\n",
    "\n",
    "datasets2 = CustomDatasetS2(orchard_path, transform, 3) + CustomDatasetS2(forest_path, transform, 3)\n",
    "#split_ratio = 0.8\n",
    "#num_data = len(datasets2)\n",
    "#split = int(np.floor(split_ratio * num_data))\n",
    "#indices = list(range(num_data))\n",
    "#indices = [idx for idx in indices if datasets2[idx][1] != -1]\n",
    "#np.random.shuffle(indices)\n",
    "\n",
    "\n",
    "# Create data samplers for training and testing sets\n",
    "train_indices, test_indices = indices[:split], indices[split:]\n",
    "train_sampler = SubsetRandomSampler(train_indices)\n",
    "test_sampler = SubsetRandomSampler(test_indices)\n",
    "\n",
    "# Create data loaders for training and testing\n",
    "train_loader = DataLoader(datasets2, batch_size=batch_size, sampler=train_sampler)\n",
    "test_loader = DataLoader(datasets2, batch_size=batch_size, sampler=test_sampler)\n",
    "\n",
    "print(anomalies)"
   ]
  },
  {
   "cell_type": "code",
   "execution_count": null,
   "metadata": {},
   "outputs": [],
   "source": [
    "#input_size = (3, 50, 50)  # Assuming 3 channels, 160x160 size\n",
    "#dummy_input = torch.randn(1, *input_size).to(device)  # Create a dummy input\n",
    "#output = model(dummy_input)"
   ]
  },
  {
   "cell_type": "code",
   "execution_count": null,
   "metadata": {
    "colab": {
     "base_uri": "https://localhost:8080/",
     "height": 1000
    },
    "id": "sa0Kq8pDZtML",
    "outputId": "ac283d6f-7497-4f47-a69f-8597767aa7c0"
   },
   "outputs": [],
   "source": [
    "import rasterio as rio\n",
    "criterion = nn.CrossEntropyLoss()\n",
    "optimizer = optim.Adam(model.parameters(), lr=learning_rate)\n",
    "# Training loop with validation\n",
    "trnl = []\n",
    "vall = []\n",
    "trna=[]\n",
    "vala=[]\n",
    "epochs = [x for x in range(num_epochs)]\n",
    "mistakes_s2 = []\n",
    "for epoch in range(num_epochs):\n",
    "    train_loss, train_accuracy = train(model, train_loader, optimizer, criterion)\n",
    "    val_loss, val_accuracy, misclf = validate(model, test_loader, criterion)\n",
    "    trnl.append(train_loss)\n",
    "    vall.append(val_loss)\n",
    "    trna.append(train_accuracy)\n",
    "    vala.append(val_accuracy)\n",
    "    print(f\"Epoch [{epoch + 1}/{num_epochs}] - Train Loss: {train_loss:.4f}, Train Acc: {train_accuracy:.2f}%, Val Loss: {val_loss:.4f}, Val Acc: {val_accuracy:.2f}%\")\n",
    "    if epoch == 20:\n",
    "        print('epoch 20 erros')\n",
    "    if epoch == num_epochs-1:\n",
    "        print('last epoch errors')\n",
    "        print(misclf)\n",
    "        mistakes_s2 = misclf\n",
    "        \n",
    "print(\"Training complete.\")\n",
    "import matplotlib.pyplot as plt\n",
    "plt.plot(epochs,trnl,label='train loss')\n",
    "plt.plot(epochs,vall,label='val loss')\n",
    "plt.xlabel('epoch')\n",
    "plt.ylabel('loss')\n",
    "plt.legend()\n",
    "plt.show()\n",
    "\n",
    "plt.plot(epochs,trna,label='train acc')\n",
    "plt.plot(epochs,vala,label='val acc')\n",
    "plt.xlabel('epoch')\n",
    "plt.ylabel('accuracy')\n",
    "plt.legend()\n",
    "plt.show()"
   ]
  },
  {
   "cell_type": "code",
   "execution_count": 14,
   "metadata": {
    "colab": {
     "base_uri": "https://localhost:8080/",
     "height": 467
    },
    "id": "WEXH7OAifINm",
    "outputId": "8c1d3ddb-de73-433a-975e-0ee0ae9a177b"
   },
   "outputs": [
    {
     "name": "stdout",
     "output_type": "stream",
     "text": [
      "Training complete.\n"
     ]
    },
    {
     "data": {
      "image/png": "[encoded data removed]",
      "text/plain": [
       "<Figure size 640x480 with 1 Axes>"
      ]
     },
     "metadata": {},
     "output_type": "display_data"
    }
   ],
   "source": [
    "print(\"Training complete.\")\n",
    "import matplotlib.pyplot as plt\n",
    "plt.plot(epochs,trna,label='train loss')\n",
    "plt.plot(epochs,vala,label='val loss')\n",
    "plt.xlabel('epoch')\n",
    "plt.ylabel('loss')\n",
    "plt.show()"
   ]
  },
  {
   "cell_type": "markdown",
   "metadata": {
    "id": "F8FAo7s3Zs9l"
   },
   "source": []
  },
  {
   "cell_type": "code",
   "execution_count": null,
   "metadata": {
    "colab": {
     "base_uri": "https://localhost:8080/",
     "height": 467
    },
    "id": "1MdlV2tP2R8H",
    "outputId": "7a1e6dc9-3d3a-4df8-c292-b5e90ff63e06"
   },
   "outputs": [
    {
     "name": "stdout",
     "output_type": "stream",
     "text": [
      "Training complete.\n"
     ]
    },
    {
     "data": {
      "image/png": "[encoded data removed]",
      "text/plain": [
       "<Figure size 640x480 with 1 Axes>"
      ]
     },
     "metadata": {},
     "output_type": "display_data"
    }
   ],
   "source": [
    "print(\"Training complete.\")\n",
    "import matplotlib.pyplot as plt\n",
    "plt.plot([x for x in range(20)],trna,label='train loss')\n",
    "plt.plot([x for x in range(20)],vala,label='val loss')\n",
    "plt.xlabel('epoch')\n",
    "plt.ylabel('acc')\n",
    "plt.show()"
   ]
  },
  {
   "cell_type": "code",
   "execution_count": null,
   "metadata": {},
   "outputs": [],
   "source": [
    "# Convert the NumPy array to a NumPy array with data type 'uint8'\n",
    "\n",
    "class CustomDatasetS2(Dataset):\n",
    "    def __init__(self, data_dir, transform=None, num_channel=12):\n",
    "        self.data_dir = data_dir\n",
    "        self.transform = transform\n",
    "        self.file_list = os.listdir(data_dir)\n",
    "        self.num_channel = num_channel\n",
    "\n",
    "    def __len__(self):\n",
    "        return len(self.file_list)\n",
    "\n",
    "    def __getitem__(self, idx):\n",
    "        img_name = os.path.join(self.data_dir, self.file_list[idx])\n",
    "        if img_name.endswith('.tif'):\n",
    "            if img_name in anomalies:\n",
    "                pass\n",
    "            with rio.open(img_name) as img :\n",
    "                image= img.read()\n",
    "                image = image.astype('float32')\n",
    "                image = (image * 255).astype('uint8')\n",
    "                image = image[:self.num_channel,2:52,2:52]\n",
    "                image = np.transpose(image,(1,2,0))\n",
    "                #print\n",
    "                if image.shape != (50,50,self.num_channel):\n",
    "                    print('anomaly')\n",
    "                    anomalies.append(img_name)\n",
    "                    return torch.zeros(50, 50,self.num_channel), -1\n",
    "                    #return torch.zeros(10, 10,12), -1\n",
    "                \n",
    "                if self.transform:\n",
    "                    image = self.transform(image)\n",
    "            label = 0 if \"orchard\" in self.data_dir else 1  # Assuming \"orchard\" is class 0 and \"forest\" is class 1\n",
    "            return image, label\n"
   ]
  },
  {
   "cell_type": "code",
   "execution_count": null,
   "metadata": {
    "id": "R5NBc6wb2SUG"
   },
   "outputs": [],
   "source": [
    "num_epochs = 40\n",
    "datasets2bicub = CustomDatasetS2(orchard_path, bicubtransform, 3) + CustomDatasetS2(forest_path, bicubtransform, 3)\n",
    "\n",
    "# Create data loaders for training and testing\n",
    "train_loader = DataLoader(datasets2bicub, batch_size=batch_size, sampler=train_sampler)\n",
    "test_loader = DataLoader(datasets2bicub, batch_size=batch_size, sampler=test_sampler)\n",
    "\n",
    "model = ResModel().to(device)\n",
    "criterion = nn.CrossEntropyLoss()\n",
    "optimizer = optim.Adam(model.parameters(), lr=learning_rate)\n",
    "# Training loop with validation\n",
    "trnl = []\n",
    "vall = []\n",
    "trna=[]\n",
    "vala=[]\n",
    "epochs = [x for x in range(num_epochs)]\n",
    "mistakes_bicub = []\n",
    "for epoch in range(num_epochs):\n",
    "    train_loss, train_accuracy = train(model, train_loader, optimizer, criterion)\n",
    "    val_loss, val_accuracy, misclf = validate(model, test_loader, criterion)\n",
    "    trnl.append(train_loss)\n",
    "    vall.append(val_loss)\n",
    "    trna.append(train_accuracy)\n",
    "    vala.append(val_accuracy)\n",
    "    print(f\"Epoch [{epoch + 1}/{num_epochs}] - Train Loss: {train_loss:.4f}, Train Acc: {train_accuracy:.2f}%, Val Loss: {val_loss:.4f}, Val Acc: {val_accuracy:.2f}%\")\n",
    "    if epoch == 20:\n",
    "        print('epoch 20 erros')\n",
    "    if epoch == num_epochs-1:\n",
    "        print('last epoch errors')\n",
    "        print(misclf)\n",
    "        mistakes_bicub = misclf\n",
    "        \n",
    "print(\"Training complete.\")\n",
    "import matplotlib.pyplot as plt\n",
    "plt.plot(epochs,trnl,label='train loss')\n",
    "plt.plot(epochs,vall,label='val loss')\n",
    "plt.xlabel('epoch')\n",
    "plt.ylabel('loss')\n",
    "plt.legend()\n",
    "plt.show()\n",
    "\n",
    "plt.plot(epochs,trna,label='train acc')\n",
    "plt.plot(epochs,vala,label='val acc')\n",
    "plt.xlabel('epoch')\n",
    "plt.ylabel('accuracy')\n",
    "plt.legend()\n",
    "plt.show()"
   ]
  },
  {
   "cell_type": "code",
   "execution_count": null,
   "metadata": {},
   "outputs": [],
   "source": []
  }
 ],
 "metadata": {
  "accelerator": "GPU",
  "colab": {
   "gpuType": "T4",
   "provenance": []
  },
  "kernelspec": {
   "display_name": "Python 3 (ipykernel)",
   "language": "python",
   "name": "python3"
  },
  "language_info": {
   "codemirror_mode": {
    "name": "ipython",
    "version": 3
   },
   "file_extension": ".py",
   "mimetype": "text/x-python",
   "name": "python",
   "nbconvert_exporter": "python",
   "pygments_lexer": "ipython3",
   "version": "3.9.7"
  }
 },
 "nbformat": 4,
 "nbformat_minor": 4
}
